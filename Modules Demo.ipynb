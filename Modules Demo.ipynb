{
 "cells": [
  {
   "cell_type": "code",
   "execution_count": 6,
   "id": "692bb219-378d-469e-a3f5-df246b81f601",
   "metadata": {},
   "outputs": [],
   "source": [
    "import greetings"
   ]
  },
  {
   "cell_type": "code",
   "execution_count": 12,
   "id": "7e3e2661-1ca5-4f22-b7db-01079e8d6d78",
   "metadata": {},
   "outputs": [
    {
     "data": {
      "text/plain": [
       "'hello, eldon!'"
      ]
     },
     "execution_count": 12,
     "metadata": {},
     "output_type": "execute_result"
    }
   ],
   "source": [
    "greetings.say_hello(\"eldon\")\n"
   ]
  },
  {
   "cell_type": "code",
   "execution_count": 14,
   "id": "b911724a-8c00-479a-83f1-e5176734adf7",
   "metadata": {},
   "outputs": [],
   "source": [
    "import greetings as g"
   ]
  },
  {
   "cell_type": "code",
   "execution_count": 16,
   "id": "27e119e2-837c-4768-9f32-1c3cf0da8a4a",
   "metadata": {},
   "outputs": [
    {
     "data": {
      "text/plain": [
       "'goodbye, bitch!'"
      ]
     },
     "execution_count": 16,
     "metadata": {},
     "output_type": "execute_result"
    }
   ],
   "source": [
    "g.say_goodbye ('bitch')"
   ]
  },
  {
   "cell_type": "code",
   "execution_count": 22,
   "id": "e43b2a9f-aed1-4aab-b996-702471f22c3c",
   "metadata": {},
   "outputs": [],
   "source": [
    "# built-in modules in python\n",
    "import math"
   ]
  },
  {
   "cell_type": "code",
   "execution_count": 20,
   "id": "092b3cfe-fa21-4f14-8b9d-b5cd32d1d435",
   "metadata": {},
   "outputs": [
    {
     "name": "stdout",
     "output_type": "stream",
     "text": [
      "5.0\n"
     ]
    }
   ],
   "source": [
    "print (math.sqrt(25))"
   ]
  },
  {
   "cell_type": "code",
   "execution_count": null,
   "id": "8a49e625-74e2-43dc-9081-98d585efc01f",
   "metadata": {},
   "outputs": [],
   "source": []
  }
 ],
 "metadata": {
  "kernelspec": {
   "display_name": "Python 3 (ipykernel)",
   "language": "python",
   "name": "python3"
  },
  "language_info": {
   "codemirror_mode": {
    "name": "ipython",
    "version": 3
   },
   "file_extension": ".py",
   "mimetype": "text/x-python",
   "name": "python",
   "nbconvert_exporter": "python",
   "pygments_lexer": "ipython3",
   "version": "3.12.4"
  }
 },
 "nbformat": 4,
 "nbformat_minor": 5
}
