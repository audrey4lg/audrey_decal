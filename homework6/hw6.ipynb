{
 "cells": [
  {
   "cell_type": "code",
   "execution_count": 219,
   "id": "be3e94e6-ec6f-48d2-8b05-476902e94291",
   "metadata": {},
   "outputs": [],
   "source": [
    "#1. PRIME CLUSTERS"
   ]
  },
  {
   "cell_type": "code",
   "execution_count": 221,
   "id": "fc04d939-7da6-4455-86b1-5ddb1398bc19",
   "metadata": {},
   "outputs": [],
   "source": [
    "import numpy as np\n"
   ]
  },
  {
   "cell_type": "code",
   "execution_count": 223,
   "id": "34158cf7-e3b1-4f54-bc4d-56351c16a75b",
   "metadata": {},
   "outputs": [],
   "source": [
    "arr = np.array ([[2, 3, 5], [4, 6, 8], [11, 13, 17], [7, 10, 13]])"
   ]
  },
  {
   "cell_type": "code",
   "execution_count": 225,
   "id": "cf6e471f-eb34-4e63-8552-8e00673c06dd",
   "metadata": {},
   "outputs": [],
   "source": [
    "def prime(n):\n",
    "    if n < 2:\n",
    "        return False\n",
    "    if n in (2, 3):\n",
    "        return True\n",
    "    if n % 2 == 0 or n % 3 == 0:\n",
    "        return False\n",
    "    i = 5\n",
    "    while i * i <= n:\n",
    "        if n % i == 0 or n % (i+2) == 0:\n",
    "            return False\n",
    "        i += 6\n",
    "    return True"
   ]
  },
  {
   "cell_type": "code",
   "execution_count": 227,
   "id": "95a513fc-826b-4c1b-a76a-1a371b80ed7d",
   "metadata": {},
   "outputs": [],
   "source": [
    "def containsPrime(arr):\n",
    "    prime_mask = np.vectorize(prime)(arr)\n",
    "    return arr[np.any(prime_mask, axis=1)]"
   ]
  },
  {
   "cell_type": "code",
   "execution_count": 229,
   "id": "b3a405dc-c9eb-4cf3-9359-06b034badd1d",
   "metadata": {},
   "outputs": [
    {
     "name": "stdout",
     "output_type": "stream",
     "text": [
      "[[ 2  3  5]\n",
      " [11 13 17]\n",
      " [ 7 10 13]]\n"
     ]
    }
   ],
   "source": [
    "print(containsPrime(arr))"
   ]
  },
  {
   "cell_type": "code",
   "execution_count": 231,
   "id": "28b31151-6d60-43e4-9d3d-d5cc7f124f9d",
   "metadata": {},
   "outputs": [],
   "source": [
    "#2. LET\"S PLAY CHECKERS"
   ]
  },
  {
   "cell_type": "code",
   "execution_count": 233,
   "id": "287de238-33b4-4d5f-8536-651e654b4081",
   "metadata": {},
   "outputs": [],
   "source": [
    "#2.1 Only Zeros"
   ]
  },
  {
   "cell_type": "code",
   "execution_count": 235,
   "id": "bfe069e6-b2e0-4fea-9a5c-dfde2f8703a7",
   "metadata": {},
   "outputs": [],
   "source": [
    "def checkerboard():\n",
    "    return np.zeros((8, 8), dtype = int)"
   ]
  },
  {
   "cell_type": "code",
   "execution_count": 237,
   "id": "3cf1a96c-480a-4410-aeee-ada0f0a0b1ae",
   "metadata": {},
   "outputs": [
    {
     "name": "stdout",
     "output_type": "stream",
     "text": [
      "[[0 0 0 0 0 0 0 0]\n",
      " [0 0 0 0 0 0 0 0]\n",
      " [0 0 0 0 0 0 0 0]\n",
      " [0 0 0 0 0 0 0 0]\n",
      " [0 0 0 0 0 0 0 0]\n",
      " [0 0 0 0 0 0 0 0]\n",
      " [0 0 0 0 0 0 0 0]\n",
      " [0 0 0 0 0 0 0 0]]\n"
     ]
    }
   ],
   "source": [
    "print(checkerboard())"
   ]
  },
  {
   "cell_type": "code",
   "execution_count": 239,
   "id": "7d576867-7180-4e85-b82b-36cad45eca88",
   "metadata": {},
   "outputs": [],
   "source": [
    "#2.2 Odd Rows Alternating"
   ]
  },
  {
   "cell_type": "code",
   "execution_count": 241,
   "id": "c220e278-46b0-4b2f-acc3-c91d1a0bae2f",
   "metadata": {},
   "outputs": [],
   "source": [
    "def checkerboard():\n",
    "    board = np.zeros((8, 8), dtype = int)\n",
    "    board [::2, ::2] = 1\n",
    "    return board"
   ]
  },
  {
   "cell_type": "code",
   "execution_count": 243,
   "id": "a1e2c215-fbf6-4917-91e8-0239a962f943",
   "metadata": {},
   "outputs": [
    {
     "name": "stdout",
     "output_type": "stream",
     "text": [
      "[[1 0 1 0 1 0 1 0]\n",
      " [0 0 0 0 0 0 0 0]\n",
      " [1 0 1 0 1 0 1 0]\n",
      " [0 0 0 0 0 0 0 0]\n",
      " [1 0 1 0 1 0 1 0]\n",
      " [0 0 0 0 0 0 0 0]\n",
      " [1 0 1 0 1 0 1 0]\n",
      " [0 0 0 0 0 0 0 0]]\n"
     ]
    }
   ],
   "source": [
    "print(checkerboard())"
   ]
  },
  {
   "cell_type": "code",
   "execution_count": 245,
   "id": "47cc4618-e8f2-43b6-a183-d543fbf5f38c",
   "metadata": {},
   "outputs": [],
   "source": [
    "#2.3 Even Rows also Alternating"
   ]
  },
  {
   "cell_type": "code",
   "execution_count": 247,
   "id": "5eb9b314-325b-41c5-ac02-8cf909559619",
   "metadata": {},
   "outputs": [],
   "source": [
    "def checkerboard():\n",
    "    board = np.zeros((8, 8), dtype = int)\n",
    "    board [::2, ::2] = 1\n",
    "    board [1::2, 1::2] = 1\n",
    "    return board"
   ]
  },
  {
   "cell_type": "code",
   "execution_count": 249,
   "id": "c238a407-8f7f-4a8b-811d-a8b1e5dc6e0b",
   "metadata": {},
   "outputs": [
    {
     "name": "stdout",
     "output_type": "stream",
     "text": [
      "[[1 0 1 0 1 0 1 0]\n",
      " [0 1 0 1 0 1 0 1]\n",
      " [1 0 1 0 1 0 1 0]\n",
      " [0 1 0 1 0 1 0 1]\n",
      " [1 0 1 0 1 0 1 0]\n",
      " [0 1 0 1 0 1 0 1]\n",
      " [1 0 1 0 1 0 1 0]\n",
      " [0 1 0 1 0 1 0 1]]\n"
     ]
    }
   ],
   "source": [
    "print(checkerboard())"
   ]
  },
  {
   "cell_type": "code",
   "execution_count": 251,
   "id": "4e612f63-b542-4d6f-9283-26ac7e76fed2",
   "metadata": {},
   "outputs": [],
   "source": [
    "#2.4 Full Checkerboard Starting with Zero Instead"
   ]
  },
  {
   "cell_type": "code",
   "execution_count": 253,
   "id": "de3c35b3-e0ec-48ec-9e10-99abd3949679",
   "metadata": {},
   "outputs": [],
   "source": [
    "def reversecheckerboard():\n",
    "    board = np.ones((8,8), dtype = int)\n",
    "    board [::2, ::2] = 1\n",
    "    board [1::2, 1::2] = 1\n",
    "    return board"
   ]
  },
  {
   "cell_type": "code",
   "execution_count": 255,
   "id": "22617ea3-963b-41e8-ad71-3ddcd98ef49b",
   "metadata": {},
   "outputs": [
    {
     "name": "stdout",
     "output_type": "stream",
     "text": [
      "[[1 1 1 1 1 1 1 1]\n",
      " [1 1 1 1 1 1 1 1]\n",
      " [1 1 1 1 1 1 1 1]\n",
      " [1 1 1 1 1 1 1 1]\n",
      " [1 1 1 1 1 1 1 1]\n",
      " [1 1 1 1 1 1 1 1]\n",
      " [1 1 1 1 1 1 1 1]\n",
      " [1 1 1 1 1 1 1 1]]\n"
     ]
    }
   ],
   "source": [
    "print (reversecheckerboard())"
   ]
  },
  {
   "cell_type": "code",
   "execution_count": 257,
   "id": "c283861d-9de4-4cf8-b139-f915b12437f9",
   "metadata": {},
   "outputs": [],
   "source": [
    "#3. THE EXPANDING UNIVERSE"
   ]
  },
  {
   "cell_type": "code",
   "execution_count": 259,
   "id": "c72f5b3d-bbe9-4635-b1fa-105746fc5669",
   "metadata": {},
   "outputs": [],
   "source": [
    "universe = np.array([\"galaxy\", \"clusters\"])"
   ]
  },
  {
   "cell_type": "code",
   "execution_count": 261,
   "id": "6dbde76e-352b-42bb-8919-ac1d0955b0d0",
   "metadata": {},
   "outputs": [],
   "source": [
    "def expansion(arr, spaces):\n",
    "    return np.array ([\" \".join(list(word)).replace(\" \",\" \" * spaces) for word in arr])"
   ]
  },
  {
   "cell_type": "code",
   "execution_count": 263,
   "id": "618746d9-ff14-445a-afae-de2c2fedca8b",
   "metadata": {},
   "outputs": [
    {
     "name": "stdout",
     "output_type": "stream",
     "text": [
      "['g a l a x y' 'c l u s t e r s']\n"
     ]
    }
   ],
   "source": [
    "print (expansion(universe, 1))"
   ]
  },
  {
   "cell_type": "code",
   "execution_count": 265,
   "id": "c911bd39-aa5f-42fb-afd0-a3a1606f749d",
   "metadata": {},
   "outputs": [
    {
     "name": "stdout",
     "output_type": "stream",
     "text": [
      "['g  a  l  a  x  y' 'c  l  u  s  t  e  r  s']\n"
     ]
    }
   ],
   "source": [
    "print (expansion(universe, 2))"
   ]
  },
  {
   "cell_type": "code",
   "execution_count": 267,
   "id": "79c90096-379f-4db9-99d8-c8fb5354b89f",
   "metadata": {},
   "outputs": [],
   "source": [
    "#4. SECOND-DIMMEST STAR"
   ]
  },
  {
   "cell_type": "code",
   "execution_count": 269,
   "id": "1e89e36d-015d-43b8-b9a4-d4eca17eda9e",
   "metadata": {},
   "outputs": [
    {
     "name": "stdout",
     "output_type": "stream",
     "text": [
      "[[1889 1906 1846 1622 1541]\n",
      " [ 606 1647 1738  596  613]\n",
      " [1138  547  573 1442  724]\n",
      " [ 611 1933 1863 1346 1777]\n",
      " [ 920 1108 1732 1592  951]]\n"
     ]
    }
   ],
   "source": [
    "np.random.seed(123)\n",
    "stars = np.random.randint (500, 2000, (5,5))\n",
    "print (stars)"
   ]
  },
  {
   "cell_type": "code",
   "execution_count": 271,
   "id": "5d9545db-b222-49e8-89c9-b67aff322174",
   "metadata": {},
   "outputs": [],
   "source": [
    "def secondDimmest(stars):\n",
    "    return np.sort(stars, axis = 0)[1]"
   ]
  },
  {
   "cell_type": "code",
   "execution_count": 273,
   "id": "4937f840-71dd-42c0-a335-3a9b6aa317c1",
   "metadata": {},
   "outputs": [
    {
     "name": "stdout",
     "output_type": "stream",
     "text": [
      "[ 611 1108 1732 1346  724]\n"
     ]
    }
   ],
   "source": [
    "print (secondDimmest(stars))"
   ]
  }
 ],
 "metadata": {
  "kernelspec": {
   "display_name": "Python 3 (ipykernel)",
   "language": "python",
   "name": "python3"
  },
  "language_info": {
   "codemirror_mode": {
    "name": "ipython",
    "version": 3
   },
   "file_extension": ".py",
   "mimetype": "text/x-python",
   "name": "python",
   "nbconvert_exporter": "python",
   "pygments_lexer": "ipython3",
   "version": "3.12.4"
  }
 },
 "nbformat": 4,
 "nbformat_minor": 5
}
