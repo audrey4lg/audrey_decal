{
 "cells": [
  {
   "cell_type": "code",
   "execution_count": null,
   "id": "04c4e9b9-0ca0-402a-a44a-1cb193c599da",
   "metadata": {},
   "outputs": [],
   "source": [
    "\n",
    "import pygame\n",
    "import random  # For random landing pad position"
   ]
  },
  {
   "cell_type": "code",
   "execution_count": null,
   "id": "7d3c712d-f5af-4249-922d-1ab028618189",
   "metadata": {},
   "outputs": [],
   "source": [
    "# Initialize Pygame\n",
    "pygame.init()"
   ]
  },
  {
   "cell_type": "code",
   "execution_count": null,
   "id": "db56faa7-ff81-405f-b206-52356056afe7",
   "metadata": {},
   "outputs": [],
   "source": [
    "# Constants\n",
    "WIDTH, HEIGHT = 500, 600\n",
    "g = 0.05  # placeholder gravity level, need to change to simulate gravity on various planets\n",
    "thrust = -0.15  # Thrust power\n",
    "fuel_max = 100  # Maximum fuel\n",
    "horizontal_speed = 2  # Speed for left/right movement\n",
    "landing_pad_y = HEIGHT - 20  # Fixed vertical position for landing pad\n",
    "landing_pad_width = 100  # Width of the landing pad"
   ]
  },
  {
   "cell_type": "code",
   "execution_count": null,
   "id": "754bb232-f11e-4538-be47-640e4e80741a",
   "metadata": {},
   "outputs": [],
   "source": [
    "# Colors\n",
    "WHITE = (255, 255, 255)\n",
    "BLACK = (0, 0, 0)\n",
    "RED = (255, 0, 0)\n",
    "GREEN = (0, 255, 0)"
   ]
  },
  {
   "cell_type": "code",
   "execution_count": null,
   "id": "7887efb1-cacb-4acf-ab19-9a38e8be14b5",
   "metadata": {},
   "outputs": [],
   "source": [
    "# Setup display\n",
    "screen = pygame.display.set_mode((WIDTH, HEIGHT))\n",
    "pygame.display.set_caption(\"Rocket Landing Simulator\")"
   ]
  },
  {
   "cell_type": "code",
   "execution_count": null,
   "id": "e0e0c99b-7110-4920-b475-83370c5f41a4",
   "metadata": {},
   "outputs": [],
   "source": [
    "# Clock for frame rate control\n",
    "clock = pygame.time.Clock()"
   ]
  },
  {
   "cell_type": "code",
   "execution_count": null,
   "id": "79935d3e-5b54-429c-a854-d8f3261fb722",
   "metadata": {},
   "outputs": [],
   "source": [
    "# Difficulty progression variables (initialized globally)\n",
    "gravity_level = 0  # Tracks gravity increase level\n",
    "pad_size_level = 0  # Tracks the landing pad shrinkage level\n",
    "pad_move_level = 1  # Tracks landing pad movement level\n",
    "pad_speed = 0.5  # Starting speed of the pad's movement (slower speed)\n",
    "pad_range = 50  # Starting range of the pad's oscillation (how far it moves left and right)\n",
    "pad_direction = 1  # Direction of the pad's movement (1 for right, -1 for left)\n",
    "successful_landings = 0  # Tracks the number of successful landings for progression\n",
    "pad_center_x = random.randint(50, WIDTH - landing_pad_width - 50)  # Starting center position of the pad"
   ]
  },
  {
   "cell_type": "code",
   "execution_count": null,
   "id": "06206b07-bd47-4d0a-af8d-bef7e12efcdf",
   "metadata": {},
   "outputs": [],
   "source": [
    "def reset_game(reset_difficulty=False):\n",
    "    \"\"\"Resets game variables for a new attempt. Optionally resets difficulty.\"\"\"\n",
    "    global rocket, velocity_y, velocity_x, fuel_remaining, landed, crashed, landing_pad_x, landing_pad_width, g, gravity_level, pad_size_level, pad_move_level, pad_speed, pad_direction, pad_range, successful_landings, pad_center_x"
   ]
  },
  {
   "cell_type": "code",
   "execution_count": null,
   "id": "e51e108a-3a3f-4df1-ae56-3655dd966512",
   "metadata": {},
   "outputs": [],
   "source": [
    "    if reset_difficulty:\n",
    "        gravity_level = 0  # Reset gravity progression\n",
    "        pad_size_level = 0  # Reset pad size progression\n",
    "        pad_move_level = 1  # Reset pad movement progression\n",
    "        landing_pad_width = 100  # Reset landing pad width to initial value\n",
    "        pad_speed = 0.5  # Reset pad movement speed\n",
    "        pad_range = 50  # Reset pad movement range\n",
    "        pad_center_x = random.randint(50, WIDTH - landing_pad_width - 50)  # Reset the pad center position\n",
    "        successful_landings = 0  # Reset successful landing counter\n",
    "        rocket = pygame.Rect(WIDTH // 2 - 20, 100, 40, 60)\n",
    "        velocity_y = 0\n",
    "        velocity_x = 0\n",
    "        fuel_remaining = fuel_max\n",
    "        landed = False\n",
    "        crashed = False"
   ]
  },
  {
   "cell_type": "code",
   "execution_count": null,
   "id": "cad5b6b3-27b6-48b8-b3c9-5c0173e0e846",
   "metadata": {},
   "outputs": [],
   "source": [
    "    g = 0.05 + gravity_level * 0.01  # Increase gravity with each level\n",
    "    landing_pad_x = pad_center_x - landing_pad_width // 2  # Center the landing pad initially at the specified center position\n",
    "    landing_pad_width = max(50, landing_pad_width - pad_size_level  * 5)  # Shrink the pad based on difficulty"
   ]
  },
  {
   "cell_type": "code",
   "execution_count": null,
   "id": "f91b78bb-27ef-4263-bf7b-5a103c53ca1f",
   "metadata": {},
   "outputs": [],
   "source": [
    " # If the landing pad moves, initialize the movement logic\n",
    "if pad_move_level > 1:  # Pad movement starts at level 1\n",
    "        # Adjust the speed and range based on the number of successful landings\n",
    "        if successful_landings >= 3:  # Start moving after 3 successful landings\n",
    "            pad_speed = 0.5  # Start with a slower speed\n",
    "            pad_range = 50  # Smaller movement range at the start\n",
    "        if successful_landings >= 6:\n",
    "            pad_speed = 0.7  # Increase speed slightly\n",
    "            pad_range = 80  # Increase range\n",
    "        if successful_landings >= 9:\n",
    "            pad_speed = 1.0  # Increase speed further\n",
    "            pad_range = 100  # Increase range further\n",
    "        if successful_landings >= 12:\n",
    "            pad_speed = 1.2  # Speed increases\n",
    "            pad_range = 150  # Further increase range"
   ]
  },
  {
   "cell_type": "code",
   "execution_count": null,
   "id": "a571519d-8bdb-4bd8-af15-7cd098cec2b3",
   "metadata": {},
   "outputs": [],
   "source": [
    "def move_pad():\n",
    "    \"\"\"Oscillates the landing pad back and forth based on the difficulty level.\"\"\"\n",
    "    global landing_pad_x, pad_speed, pad_direction, pad_range, pad_center_x\n",
    "    \n",
    "    # Move the pad back and forth by modifying its x position with pad_speed\n",
    "    landing_pad_x += pad_speed * pad_direction  # Move the pad by the speed value in the current direction\n"
   ]
  },
  {
   "cell_type": "code",
   "execution_count": null,
   "id": "88337802-f235-460b-9920-2bbd3dc57161",
   "metadata": {},
   "outputs": [],
   "source": [
    " # Reverse direction when the pad hits the left or right limit\n",
    "if landing_pad_x <= pad_center_x - pad_range or landing_pad_x + landing_pad_width >= pad_center_x + pad_range:\n",
    "        pad_direction *= -1  # Reverse direction\n",
    "# Keep the landing pad within the movement bounds\n",
    "    landing_pad_x = max(pad_center_x - pad_range, min(pad_center_x + pad_range - landing_pad_width, landing_pad_x))\n"
   ]
  },
  {
   "cell_type": "code",
   "execution_count": null,
   "id": "cb350357-3214-460c-9d47-c8a8ba054639",
   "metadata": {},
   "outputs": [],
   "source": [
    " # Initialize game variables\n",
    "reset_game()"
   ]
  },
  {
   "cell_type": "code",
   "execution_count": null,
   "id": "b403598a-576f-458c-9a3c-7490ac37d468",
   "metadata": {},
   "outputs": [],
   "source": [
    "# Show start screen and wait for key press\n",
    "def show_start_screen():\n",
    "    \"\"\"Displays the start screen with instructions.\"\"\"\n",
    "    font = pygame.font.Font(None, 28)  # Smaller font size\n",
    "    message = font.render(\"Rocket Landing Simulator: Press any key to start\", True, WHITE)\n",
    "    screen.fill(BLACK)\n",
    "    message_rect = message.get_rect(center=(WIDTH // 2, HEIGHT // 2))  # Center the message\n",
    "    screen.blit(message, message_rect)\n",
    "    pygame.display.flip()"
   ]
  },
  {
   "cell_type": "code",
   "execution_count": null,
   "id": "2c17d19a-2f73-44e6-a4e6-aa9d1802f623",
   "metadata": {},
   "outputs": [],
   "source": [
    "start_screen = True\n",
    "while start_screen:\n",
    "    for event in pygame.event.get():\n",
    "        if event.type == pygame.QUIT:\n",
    "            pygame.quit()\n",
    "            exit()\n",
    "        elif event.type == pygame.KEYDOWN:\n",
    "            start_screen = False  # Exit start screen when any key is pressed\n",
    "    show_start_screen()\n",
    "    clock.tick(30)"
   ]
  },
  {
   "cell_type": "code",
   "execution_count": null,
   "id": "1839f673-ea17-4738-adde-6f3e6c3a96f0",
   "metadata": {},
   "outputs": [],
   "source": [
    "# Main game loop\n",
    "running = True\n",
    "while running:\n",
    "    screen.fill(BLACK)\n",
    "    for event in pygame.event.get():\n",
    "        if event.type == pygame.QUIT:\n",
    "            running = False"
   ]
  },
  {
   "cell_type": "code",
   "execution_count": null,
   "id": "78d8b2ba-c492-41bb-b4b8-2b81df3aebcc",
   "metadata": {},
   "outputs": [],
   "source": [
    " keys = pygame.key.get_pressed()\n",
    "\n",
    "    if keys[pygame.K_r]:  # Reset game if \"R\" is pressed\n",
    "        reset_game()"
   ]
  },
  {
   "cell_type": "code",
   "execution_count": null,
   "id": "74706718-dbf5-4c7a-8abf-0084484ea1bd",
   "metadata": {},
   "outputs": [],
   "source": [
    " if not landed and not crashed:\n",
    "        if keys[pygame.K_SPACE] and fuel_remaining > 0:\n",
    "            velocity_y += thrust  # Apply thrust\n",
    "            fuel_remaining -= 1\n",
    "\n",
    "        if keys[pygame.K_LEFT] and fuel_remaining > 0:\n",
    "            velocity_x = -horizontal_speed  # Move left\n",
    "            fuel_remaining -= 0.5  # Small fuel usage for horizontal movement\n",
    "        elif keys[pygame.K_RIGHT] and fuel_remaining > 0:\n",
    "            velocity_x = horizontal_speed  # Move right\n",
    "            fuel_remaining -= 0.5\n",
    "        else:\n",
    "            velocity_x = 0  # Stop horizontal movement when no key is pressed"
   ]
  },
  {
   "cell_type": "code",
   "execution_count": null,
   "id": "c9ed5ee8-cf73-4438-93e0-09c2ae373d16",
   "metadata": {},
   "outputs": [],
   "source": [
    "        velocity_y += g  # Apply gravity\n",
    "        rocket.y += velocity_y  # Update vertical position\n",
    "        rocket.x += velocity_x  # Update horizontal position\n",
    "\n",
    "        # Prevent the rocket from moving off-screen\n",
    "        rocket.x = max(0, min(WIDTH - rocket.width, rocket.x))\n"
   ]
  },
  {
   "cell_type": "code",
   "execution_count": null,
   "id": "9c7773fa-f89f-41e6-83e7-4b66af3c14d0",
   "metadata": {},
   "outputs": [],
   "source": [
    "# Check landing\n",
    "if rocket.bottom >= landing_pad_y:\n",
    "    if landing_pad_x <= rocket.x <= landing_pad_x + landing_pad_width - rocket.width:\n",
    "        if velocity_y > 5:  # Too fast = crash\n",
    "            crashed = True\n",
    "        else:\n",
    "            landed = True  # Safe landing\n",
    "            successful_landings += 1  # Increment successful landing count\n",
    "            gravity_level += 1  # Increment successful gravity landing counter\n",
    "            pad_size_level += 1  # Increment successful pad shrink counter\n",
    "            if successful_landings % 3 == 0:  # After every 3 successful landings, increase pad movement difficulty\n",
    "                pad_move_level += 1\n",
    "        else:\n",
    "            crashed = True  # Missed the pad = crash\n",
    "            \n",
    "        rocket.bottom = landing_pad_y\n",
    "        velocity_y = 0\n"
   ]
  },
  {
   "cell_type": "code",
   "execution_count": null,
   "id": "63fd3d4f-b6e4-4b0c-a7c2-66da7d0ac96b",
   "metadata": {},
   "outputs": [],
   "source": [
    "# If landed, show the \"Next Level\" message\n",
    "    if landed:\n",
    "        font = pygame.font.Font(None, 24)\n",
    "        status = font.render(\"Next Level! Preparing...\", True, GREEN)\n",
    "        screen.blit(status, (WIDTH // 2 - 100, HEIGHT // 2))\n",
    "        pygame.display.flip()\n",
    "\n",
    "        # Wait for a moment before resetting for next level (show for 2 seconds)\n",
    "        pygame.time.wait(2000)\n",
    "\n",
    "        # After the message, reset game state for the next level\n",
    "        reset_game()"
   ]
  },
  {
   "cell_type": "code",
   "execution_count": null,
   "id": "f3580261-aa7c-4e2a-8a02-bc1356560079",
   "metadata": {},
   "outputs": [],
   "source": [
    " # Display the crash message before resetting\n",
    "    if crashed:\n",
    "        font = pygame.font.Font(None, 24)\n",
    "        status = font.render(\"Crash! Press 'R' to retry.\", True, RED)\n",
    "        screen.blit(status, (WIDTH // 2 - 80, HEIGHT // 2))\n",
    "        pygame.display.flip()  # Show the crash message before resetting"
   ]
  },
  {
   "cell_type": "code",
   "execution_count": null,
   "id": "265194b1-0704-4591-a647-9a09f65b9a04",
   "metadata": {},
   "outputs": [],
   "source": [
    "# Wait for user to press 'R' to reset after crash\n",
    "        while not keys[pygame.K_r]:\n",
    "            keys = pygame.key.get_pressed()\n",
    "            for event in pygame.event.get():\n",
    "                if event.type == pygame.QUIT:\n",
    "                    running = False\n",
    "            clock.tick(30)\n",
    "\n",
    "reset_game(reset_difficulty=True)  # Reset game state after pressing 'R', but reset difficulty"
   ]
  },
  {
   "cell_type": "code",
   "execution_count": null,
   "id": "44050529-a870-4e85-89fe-e1b352c40cb4",
   "metadata": {},
   "outputs": [],
   "source": [
    " # Move the landing pad if pad_move_level is greater than 0\n",
    "    if pad_move_level > 1:\n",
    "        move_pad()"
   ]
  },
  {
   "cell_type": "code",
   "execution_count": null,
   "id": "f5377145-3594-4282-9ee2-74228852fd7c",
   "metadata": {},
   "outputs": [],
   "source": [
    "# Draw rocket and landing pad\n",
    "    pygame.draw.rect(screen, WHITE, rocket)\n",
    "    pygame.draw.rect(screen, WHITE, (landing_pad_x, landing_pad_y, landing_pad_width, 10))  # Landing pad\n",
    "\n",
    "    # Display status text\n",
    "    font = pygame.font.Font(None, 24)\n",
    "    fuel_text = font.render(f\"Fuel: {fuel_remaining}\", True, WHITE)\n",
    "    screen.blit(fuel_text, (10, 10))"
   ]
  },
  {
   "cell_type": "code",
   "execution_count": null,
   "id": "efc71e79-8f5e-4921-847a-fb7afa7bc3a4",
   "metadata": {},
   "outputs": [],
   "source": [
    "   # Display difficulty progression\n",
    "    font = pygame.font.Font(None, 24)\n",
    "    difficulty_text = font.render(f\"Difficulty: Level {pad_move_level}\", True, WHITE)\n",
    "    screen.blit(difficulty_text, (WIDTH - 150, 10))"
   ]
  },
  {
   "cell_type": "code",
   "execution_count": null,
   "id": "2b86148d-d74c-45d1-a6d1-3cfdb526886f",
   "metadata": {},
   "outputs": [],
   "source": [
    "   pygame.display.flip()\n",
    "    clock.tick(30)  # Maintain frame rate"
   ]
  },
  {
   "cell_type": "code",
   "execution_count": null,
   "id": "a297e8ad-0209-4655-831e-4d096a3d11b3",
   "metadata": {},
   "outputs": [],
   "source": [
    "pygame.quit()"
   ]
  },
  {
   "cell_type": "code",
   "execution_count": null,
   "id": "60dc9c8d-c025-49b1-b1cd-e4d368713d4e",
   "metadata": {},
   "outputs": [],
   "source": []
  }
 ],
 "metadata": {
  "kernelspec": {
   "display_name": "Python 3 (ipykernel)",
   "language": "python",
   "name": "python3"
  },
  "language_info": {
   "codemirror_mode": {
    "name": "ipython",
    "version": 3
   },
   "file_extension": ".py",
   "mimetype": "text/x-python",
   "name": "python",
   "nbconvert_exporter": "python",
   "pygments_lexer": "ipython3",
   "version": "3.12.4"
  }
 },
 "nbformat": 4,
 "nbformat_minor": 5
}
